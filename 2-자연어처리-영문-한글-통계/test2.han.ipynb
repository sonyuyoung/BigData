{
 "cells": [
  {
   "cell_type": "markdown",
   "metadata": {},
   "source": []
  },
  {
   "cell_type": "markdown",
   "metadata": {},
   "source": [
    "## 한글 형태소 분석 ,시각화, 워드 클라우드 등. \n",
    "### 형태소 분석, 품사 태깅. \n",
    "### 데이터 : 샘플 데이터 , 페이스북 전자 신문에서 크롤링 한 임시 데이터로  대체 \n",
    "### 설치 가 조금 복잡함.\n",
    "### 1) jdk 17 이상 2) JPype(자바, 파이썬 연결하는 도구) 3) konlpy 패키지 설치. \n",
    "\n",
    "## 주의사항, JPype 버전 1.4,  파이썬 버전 3.10.7 다운그레이드 \n",
    "## 시스템 환경 변수 , ex) JAVA_HOME : 경로 추가 하기. jdk 17\n",
    "### 변수명 : JAVA_HOME (동일하게)\n",
    "### 시스템 환경 변수의 경로 값 예제: C:\\Program Files\\Java\\jdk-17\n",
    "### 변수명 : Path\n",
    "### 경로 : C:\\Program Files\\Java\\jdk-17\\bin\n",
    "\n",
    "## 파이썬 3.10.x , 예) 3.10.7 버전으로 다운 받기. \n",
    "### 시스템 환경 변수 추가 작업\n",
    "\n",
    "### 변수명 : Path\n",
    "### 경로C:\\Python\\Python39\\\n",
    "\n",
    "### 변수명 : Path\n",
    "### 경로C:\\Python\\Python39\\Scripts\n",
    "\n",
    "### cmd -> python -V\n",
    "\n",
    "## 2) JPype(자바, 파이썬 연결하는 도구)\n",
    "### 다운로드 사이트 주소 : https://www.lfd.uci.edu/~gohlke/pythonlibs/#jpype \n",
    "### JPype 검색하고, 버전은 JPype1‑1.4.0‑cp310‑cp310‑win_amd64.whl 받아서, \n",
    "### 해당 다운로드 받은 폴더 이동하고, 해당 폴더 검색경로에서, cmd 실행하고, \n",
    "### cmd -> pip install JPype1‑1.4.0‑cp310‑cp310‑win_amd64.whl\n",
    "### 업그레이드 경고창 뜨면 : \n",
    "### python.exe -m pip install --upgrade pip\n",
    "### 업그레이드 후 , 다시 설치 \n",
    "### pip install JPype1‑1.4.0‑cp310‑cp310‑win_amd64.whl\n",
    "### , 명령어 붙여넣기. \n",
    "### pip install konlpy \n",
    "\n",
    "\n"
   ]
  },
  {
   "cell_type": "code",
   "execution_count": 5,
   "metadata": {},
   "outputs": [
    {
     "name": "stdout",
     "output_type": "stream",
     "text": [
      "Requirement already satisfied: matplotlib in /Users/u020/.pyenv/versions/3.10.7/lib/python3.10/site-packages (3.8.2)\n",
      "Requirement already satisfied: kiwisolver>=1.3.1 in /Users/u020/.pyenv/versions/3.10.7/lib/python3.10/site-packages (from matplotlib) (1.4.5)\n",
      "Requirement already satisfied: pillow>=8 in /Users/u020/.pyenv/versions/3.10.7/lib/python3.10/site-packages (from matplotlib) (10.1.0)\n",
      "Requirement already satisfied: fonttools>=4.22.0 in /Users/u020/.pyenv/versions/3.10.7/lib/python3.10/site-packages (from matplotlib) (4.47.0)\n",
      "Requirement already satisfied: numpy<2,>=1.21 in /Users/u020/.pyenv/versions/3.10.7/lib/python3.10/site-packages (from matplotlib) (1.26.2)\n",
      "Requirement already satisfied: pyparsing>=2.3.1 in /Users/u020/.pyenv/versions/3.10.7/lib/python3.10/site-packages (from matplotlib) (3.1.1)\n",
      "Requirement already satisfied: contourpy>=1.0.1 in /Users/u020/.pyenv/versions/3.10.7/lib/python3.10/site-packages (from matplotlib) (1.2.0)\n",
      "Requirement already satisfied: python-dateutil>=2.7 in /Users/u020/.pyenv/versions/3.10.7/lib/python3.10/site-packages (from matplotlib) (2.8.2)\n",
      "Requirement already satisfied: packaging>=20.0 in /Users/u020/.pyenv/versions/3.10.7/lib/python3.10/site-packages (from matplotlib) (23.2)\n",
      "Requirement already satisfied: cycler>=0.10 in /Users/u020/.pyenv/versions/3.10.7/lib/python3.10/site-packages (from matplotlib) (0.12.1)\n",
      "Requirement already satisfied: six>=1.5 in /Users/u020/.pyenv/versions/3.10.7/lib/python3.10/site-packages (from python-dateutil>=2.7->matplotlib) (1.16.0)\n",
      "\n",
      "\u001b[1m[\u001b[0m\u001b[34;49mnotice\u001b[0m\u001b[1;39;49m]\u001b[0m\u001b[39;49m A new release of pip available: \u001b[0m\u001b[31;49m22.2.2\u001b[0m\u001b[39;49m -> \u001b[0m\u001b[32;49m23.3.2\u001b[0m\n",
      "\u001b[1m[\u001b[0m\u001b[34;49mnotice\u001b[0m\u001b[1;39;49m]\u001b[0m\u001b[39;49m To update, run: \u001b[0m\u001b[32;49mpip install --upgrade pip\u001b[0m\n",
      "Requirement already satisfied: wordcloud in /Users/u020/.pyenv/versions/3.10.7/lib/python3.10/site-packages (1.9.3)\n",
      "Requirement already satisfied: numpy>=1.6.1 in /Users/u020/.pyenv/versions/3.10.7/lib/python3.10/site-packages (from wordcloud) (1.26.2)\n",
      "Requirement already satisfied: matplotlib in /Users/u020/.pyenv/versions/3.10.7/lib/python3.10/site-packages (from wordcloud) (3.8.2)\n",
      "Requirement already satisfied: pillow in /Users/u020/.pyenv/versions/3.10.7/lib/python3.10/site-packages (from wordcloud) (10.1.0)\n",
      "Requirement already satisfied: python-dateutil>=2.7 in /Users/u020/.pyenv/versions/3.10.7/lib/python3.10/site-packages (from matplotlib->wordcloud) (2.8.2)\n",
      "Requirement already satisfied: kiwisolver>=1.3.1 in /Users/u020/.pyenv/versions/3.10.7/lib/python3.10/site-packages (from matplotlib->wordcloud) (1.4.5)\n",
      "Requirement already satisfied: pyparsing>=2.3.1 in /Users/u020/.pyenv/versions/3.10.7/lib/python3.10/site-packages (from matplotlib->wordcloud) (3.1.1)\n",
      "Requirement already satisfied: packaging>=20.0 in /Users/u020/.pyenv/versions/3.10.7/lib/python3.10/site-packages (from matplotlib->wordcloud) (23.2)\n",
      "Requirement already satisfied: fonttools>=4.22.0 in /Users/u020/.pyenv/versions/3.10.7/lib/python3.10/site-packages (from matplotlib->wordcloud) (4.47.0)\n",
      "Requirement already satisfied: contourpy>=1.0.1 in /Users/u020/.pyenv/versions/3.10.7/lib/python3.10/site-packages (from matplotlib->wordcloud) (1.2.0)\n",
      "Requirement already satisfied: cycler>=0.10 in /Users/u020/.pyenv/versions/3.10.7/lib/python3.10/site-packages (from matplotlib->wordcloud) (0.12.1)\n",
      "Requirement already satisfied: six>=1.5 in /Users/u020/.pyenv/versions/3.10.7/lib/python3.10/site-packages (from python-dateutil>=2.7->matplotlib->wordcloud) (1.16.0)\n",
      "\n",
      "\u001b[1m[\u001b[0m\u001b[34;49mnotice\u001b[0m\u001b[1;39;49m]\u001b[0m\u001b[39;49m A new release of pip available: \u001b[0m\u001b[31;49m22.2.2\u001b[0m\u001b[39;49m -> \u001b[0m\u001b[32;49m23.3.2\u001b[0m\n",
      "\u001b[1m[\u001b[0m\u001b[34;49mnotice\u001b[0m\u001b[1;39;49m]\u001b[0m\u001b[39;49m To update, run: \u001b[0m\u001b[32;49mpip install --upgrade pip\u001b[0m\n"
     ]
    }
   ],
   "source": [
    "# !pip3 install matplotlib\n",
    "# !pip3 install wordcloud"
   ]
  },
  {
   "cell_type": "code",
   "execution_count": 3,
   "metadata": {},
   "outputs": [],
   "source": [
    "import json\n",
    "import re \n",
    "from konlpy.tag import Okt\n",
    "from collections import Counter\n",
    "import matplotlib\n",
    "import matplotlib.pyplot as plt \n",
    "from matplotlib import font_manager, rc \n",
    "from wordcloud import WordCloud \n"
   ]
  },
  {
   "cell_type": "code",
   "execution_count": 9,
   "metadata": {},
   "outputs": [
    {
     "data": {
      "text/plain": [
       "[{'created_time': '2018-06-20 18:06:39',\n",
       "  'link': 'https://www.facebook.com/etnews.kr/videos/1981346601899735/',\n",
       "  'message': '6월의 스파크포럼 - \"미래 시대, 조직의 변화도 시작됐다!\"\\n\\n스파크포럼은 현 사회의 사회문제 및 이슈를 제기하고, 그 이슈를 혁신적으로 해결하고자 하는 소셜이노베이터를 발굴, 지원하여 우리 사회 따뜻한 변화를 확산시키지 위해 만들어진 도전과 만남의 자리입니다.\\n\\n6월의 스파크포럼에서는 4차 산업혁명 시대의 기업조직과 조직문화를 살펴보고, 조직의 변화를 받아들이고 실험해나가는 사례를 통해 미래 시대 조직이 나아가야 할 방향을 함께 생각해보고자 합니다.',\n",
       "  'name': '6월의 스파크포럼 - \"미래 시대, 조직의 변화도 시작됐다!\"',\n",
       "  'post_id': '407886705912407_1981346601899735',\n",
       "  'total_comments': 3},\n",
       " {'created_time': '2018-06-14 10:41:16',\n",
       "  'link': 'http://www.etnews.com/20180612000347',\n",
       "  'message': '로봇이 4차 산업혁명 주요 성장 동력으로 떠오르면서 국내 로봇 기업에 재평가가 이뤄지고 있다는 분석입니다.',\n",
       "  'name': '기술력 갖춘 로봇기업 몸값 치솟는다',\n",
       "  'post_id': '407886705912407_1971252229575839',\n",
       "  'total_comments': 0},\n",
       " {'created_time': '2018-04-10 17:42:00',\n",
       "  'link': 'http://www.etnews.com/20180409000360?mc=em_002_00001',\n",
       "  'message': '4차 산업혁명 시대 금융 산업 전반 점검해야 한다는...',\n",
       "  'name': \"휘청거리는 대한민국 '금융'...서민도 기업도 ICT도 실종\",\n",
       "  'post_id': '407886705912407_1900738133293916',\n",
       "  'total_comments': 0},\n",
       " {'created_time': '2018-03-05 12:05:00',\n",
       "  'link': 'https://goo.gl/qPEyAJ',\n",
       "  'message': \"공통 간판 공약은 '4차 산업혁명 선도 도시 구현'과 '가상화폐·블록체인 기술 활용' 등입니다. https://goo.gl/qPEyAJ\",\n",
       "  'name': \"지방선거 D-100 정책 공약 '4차산업혁명'에 초점\",\n",
       "  'post_id': '407886705912407_1859978837369846',\n",
       "  'total_comments': 0},\n",
       " {'created_time': '2018-02-05 17:20:01',\n",
       "  'link': 'http://www.etnews.com/20180205000237',\n",
       "  'message': '이번 과정은 4차 산업혁명 핵심 기술인 AI에 대한 통찰력과 알파고를 통해 우리 일상과 익숙해진 로봇, 빅데이터 산업 흐름을 알려줍니다. #인공지능 #최고위과정 #산학연최고전문가 https://goo.gl/jSZSNX',\n",
       "  'name': '[알림]제2기 인공지능 최고위 과정 모집',\n",
       "  'post_id': '407886705912407_1829059807128416',\n",
       "  'total_comments': 0},\n",
       " {'created_time': '2018-01-29 23:39:00',\n",
       "  'link': 'http://www.etnews.com/20180129000403?mc=em_003_00001',\n",
       "  'message': '4차 산업혁명 모든 기술과 서비스 구현',\n",
       "  'name': \"첫 스마트시티 '부산·세종' 낙점...규제 프리존으로\",\n",
       "  'post_id': '407886705912407_1821177084583355',\n",
       "  'total_comments': 0},\n",
       " {'created_time': '2017-11-09 18:11:43',\n",
       "  'link': 'http://www.sek.co.kr/2017/nbf',\n",
       "  'message': '산업혁명의 나라, 영국엔 4차 산업혁명이 없다?\\n한국-영국 경험과 지혜를 모으는 ‘미래비즈니스포럼 2017’ 개최',\n",
       "  'name': '미래비즈니스포럼 2017 : 손에 잡히는 4차 산업혁명',\n",
       "  'post_id': '407886705912407_1735224763178588',\n",
       "  'total_comments': 0},\n",
       " {'created_time': '2017-10-25 13:08:49',\n",
       "  'link': 'https://www.facebook.com/etnews.kr/videos/1720053844695680/',\n",
       "  'message': \"[전자신문TV 라이브] SBA 신직업위크\\n\\n4차 산업혁명 시대의 경쟁력 확보와 일자리 창출의 해법을 신직업에서 찾고 있는 서울산업진흥원(SBA)이 자신들의 역량과 노력을 모두 담은 '제 2회 신직업위크'를 진행하고 있습니다.\\n\\n이번 전자신문TV라이브는 서울 대치동 SBA 신직업교육센터에서 강만구 신직업교육팀장과 서지윤 신직업리서치팀수석, 윤석원 테스트웍스 대표 등과 함께 '제 2회 신직업위크'와 최신 신직업트렌드를 알아보는 시간으로 마련했습니다. 많은 시청 바랍니다. \\n\\n#전자신문 #전자신문엔터 #전자신문TV #라이브 #소셜방송 #현장라이브 #손보련 #신직업위크 #서울산업진흥원 #SBA #신직업 #서울 #강만구 #서지윤 #윤석원 #테스트웍스 #소프트웨어 #테스터 #소프트웨어테스터\",\n",
       "  'name': '[전자신문TV 라이브] SBA 신직업위크',\n",
       "  'post_id': '407886705912407_1720053844695680',\n",
       "  'total_comments': 0},\n",
       " {'created_time': '2017-10-06 11:50:00',\n",
       "  'link': 'http://www.etnews.com/20171005000056?mc=em_011_00001',\n",
       "  'message': '혹시 우리나라도?~~4차 산업혁명 시대 떠오르는 일자리 전략으로 강추~~',\n",
       "  'name': '日, 인공지능 활용능력 자격시험 만든다',\n",
       "  'post_id': '407886705912407_1700789646622100',\n",
       "  'total_comments': 1},\n",
       " {'created_time': '2017-09-25 15:30:00',\n",
       "  'link': 'http://www.etnews.com/20170924000106?mc=em_003_00001',\n",
       "  'message': '4차 산업혁명 대응에 가장 강점 분야는 5세대 이동통신...건강한 산업 생태계 조성 노력 강조',\n",
       "  'name': \"김상조 공정위원장 “기업집단국, 조사국과 달라…'존경받는 기업' 만드는 게 핵심”\",\n",
       "  'post_id': '407886705912407_1691461310888267',\n",
       "  'total_comments': 0},\n",
       " {'created_time': '2017-08-29 00:54:00',\n",
       "  'link': 'http://www.etnews.com/20170825000162?mc=em_009_00001',\n",
       "  'message': \"중앙부처 공무원 51.3% '4차 산업혁명 관련 가장 시급히 대응해야 할 기술적 과제'로 빅데이터 활용 꼽\",\n",
       "  'name': '현직 공무원들 \"빅데이터·AI, 정책에 적극 활용\"…4차 산업혁명 인식 높아',\n",
       "  'post_id': '407886705912407_1665258370175228',\n",
       "  'total_comments': 1},\n",
       " {'created_time': '2017-08-17 15:37:14',\n",
       "  'link': 'https://www.facebook.com/etnews.kr/videos/1655135431187522/',\n",
       "  'message': '[전자신문TV 라이브] 직격인터뷰 - 서울산업진흥원(SBA) 주형철 대표이사\\n\\n최근 각급 공공기관들이 4차 산업혁명기를 맞은 국내 중소기업의 경쟁력과 일자리 창출을 위해 노력하고 있는데요.\\n\\n이번 전자신문TV 라이브는 중소기업 활성화와 일자리 창출에 앞장서는 공공기관 중 대표적 사례로 꼽히는 서울산업진흥원 주형철 대표이사를 모시고 다양한 이야기를 듣는 시간으로 진행됩니다.\\n\\n#전자신문 #전자신문TV #서울산업진흥원 #SBA #주형철 #소성렬',\n",
       "  'name': '[전자신문TV 라이브] 직격인터뷰 - 서울산업진흥원(SBA) 주형철 대표이사',\n",
       "  'post_id': '407886705912407_1655135431187522',\n",
       "  'total_comments': 15},\n",
       " {'created_time': '2017-08-12 17:48:00',\n",
       "  'link': 'http://www.etnews.com/20170810000414?mc=em_009_00001',\n",
       "  'message': '4차 산업혁명 대응은 일자리 창출과 함께 문재인 정부 주요 국정 과제인 데도 우선순위에서 밀렸다는 지적',\n",
       "  'name': '4차 산업혁명위 출범 후순위로 밀렸다',\n",
       "  'post_id': '407886705912407_1648865381814527',\n",
       "  'total_comments': 0},\n",
       " {'created_time': '2017-06-09 22:00:00',\n",
       "  'link': 'http://www.etnews.com/20170608000300?mc=em_009_00001',\n",
       "  'message': '통합·개혁 행보에서 빠른 움직임을 보였지만 4차 산업혁명 등 신성장동력 창출에서는 한 발짝도 못 나갔다는 평입니다...',\n",
       "  'name': \"새정부 출범 한 달...'통합·개혁'엔 진일보, '4차 산업혁명 대응' 한발짝도 못 나가\",\n",
       "  'post_id': '407886705912407_1579376925430040',\n",
       "  'total_comments': 4},\n",
       " {'created_time': '2017-05-24 18:30:00',\n",
       "  'link': 'http://www.etnews.com/20170524000281?mc=em_001_00001',\n",
       "  'message': \"미래창조과학부가 주최하고 전자신문사, 한국경제신문, 한국정보통신진흥협회(KAIT) 주관으로 24일 서울 강남구 삼성동 코엑스에서 개막된 '월드IT쇼(WIS) 2017'은 4차 산업혁명이 더 이상 개념이 아니라 현실로 다가왔음을 입증했습니다~\",\n",
       "  'name': '[WIS 2017]4차 산업혁명, 현실과 마주한 날',\n",
       "  'post_id': '407886705912407_1562807837086949',\n",
       "  'total_comments': 0},\n",
       " {'created_time': '2017-05-17 18:38:04',\n",
       "  'link': 'https://www.facebook.com/etnews.kr/photos/a.409377469096664/1556319464402453/?type=3',\n",
       "  'message': '[전자신문TV 라이브 예고]\\n이번 전자신문TV는 4차 산업혁명과 과학기술 영상컨퍼런스를 생중계합니다~! 광운대학교 이승현 교수님을 모시고 진행하는 이번 행사는 VR. AR 기술과 몰힙형 미디어에 대해 설명해 주신다고 합니다!\\n\\n이번 행사는 전자신문 Entertainment와 가상현실 스튜디오 솔루션을 제작한 다림비젼, 중견기업TV와 함께  4차 산업 정보 채널 IBSB(IT Tech. & Business SNS Broadcast)를 통해 진행합니다.\\n\\nIBSB는 전세계 4차 산업 혁명의 현장의 생생한 IT 소식과 정보, 컨퍼런스의 강연, VOD정보를 VR 기술과 원격 Live방송 기술을 중심으로 시간과 거리를 초월하는 실시간 TELE-Presentation 기술의 새로운 방송 서비스입니다.\\n\\n이런 유익한 강의를 전자신문 페이스북을 통해서 시청하실 수 있습니다~ 많은 관심부탁드립니다♥',\n",
       "  'name': 'Timeline Photos',\n",
       "  'post_id': '407886705912407_1556319464402453',\n",
       "  'total_comments': 1},\n",
       " {'created_time': '2017-04-05 07:00:00',\n",
       "  'link': 'http://www.etnews.com/20170404000230',\n",
       "  'message': '대선 국면이지만 법안의 시급성 때문에 4차 산업혁명 대비 법제 개편 논의가 불붙을 전망입니다...',\n",
       "  'name': \"'4차 산업혁명 기본법' 나왔다…대선 기간 법제화 논의 불붙을듯\",\n",
       "  'post_id': '407886705912407_1505222409512159',\n",
       "  'total_comments': 1},\n",
       " {'created_time': '2017-02-14 08:30:01',\n",
       "  'link': 'http://www.etnews.com/20170213000307',\n",
       "  'message': '4차 산업혁명 시대 대비!!!',\n",
       "  'name': '[차기 정부 거버넌스 개편 방향 좌담회]\"400조 정부, 혁신부총리가 답이다\"',\n",
       "  'post_id': '407886705912407_1452393468128387',\n",
       "  'total_comments': 0},\n",
       " {'created_time': '2016-01-25 06:00:00',\n",
       "  'link': 'http://www.etnews.com/20160124000075',\n",
       "  'message': '‘#4차산업혁명 의 이해(Mastering the Fourth Industrial Revolution)’...\\n23일 폐막한 #다보스포럼 에서는  4차 산업혁명 기대와 우려가 교차했는데요. 구글, 애플, 페이스북, 삼성전자, LG전자가 앞다퉈 4차 산업혁명 흐름에 뛰어 들고 있습니다.',\n",
       "  'name': '[이슈분석]다보스포럼, 4차 산업혁명 기대와 우려 교차',\n",
       "  'post_id': '407886705912407_1106254916075579',\n",
       "  'total_comments': 0}]"
      ]
     },
     "execution_count": 9,
     "metadata": {},
     "output_type": "execute_result"
    }
   ],
   "source": [
    "# 샘플 데이터 읽어서, 메모리에서 확인해보기. \n",
    "inputFileName = \"./etnews.kr_facebook_2016-01-01_2018-08-01_4차 산업혁명.json\"\n",
    "data = json.loads(open(inputFileName,\"r\",encoding = \"utf-8\").read())\n",
    "data"
   ]
  },
  {
   "cell_type": "code",
   "execution_count": 17,
   "metadata": {},
   "outputs": [
    {
     "data": {
      "text/plain": [
       "'6월의 스파크포럼    미래 시대  조직의 변화도 시작됐다    스파크포럼은 현 사회의 사회문제 및 이슈를 제기하고  그 이슈를 혁신적으로 해결하고자 하는 소셜이노베이터를 발굴  지원하여 우리 사회 따뜻한 변화를 확산시키지 위해 만들어진 도전과 만남의 자리입니다   6월의 스파크포럼에서는 4차 산업혁명 시대의 기업조직과 조직문화를 살펴보고  조직의 변화를 받아들이고 실험해나가는 사례를 통해 미래 시대 조직이 나아가야 할 방향을 함께 생각해보고자 합니다 로봇이 4차 산업혁명 주요 성장 동력으로 떠오르면서 국내 로봇 기업에 재평가가 이뤄지고 있다는 분석입니다 4차 산업혁명 시대 금융 산업 전반 점검해야 한다는   공통 간판 공약은  4차 산업혁명 선도 도시 구현 과  가상화폐 블록체인 기술 활용  등입니다  https   goo gl qPEyAJ이번 과정은 4차 산업혁명 핵심 기술인 AI에 대한 통찰력과 알파고를 통해 우리 일상과 익숙해진 로봇  빅데이터 산업 흐름을 알려줍니다   인공지능  최고위과정  산학연최고전문가 https   goo gl jSZSNX4차 산업혁명 모든 기술과 서비스 구현산업혁명의 나라  영국엔 4차 산업혁명이 없다  한국 영국 경험과 지혜를 모으는  미래비즈니스포럼 2017  개최 전자신문TV 라이브  SBA 신직업위크  4차 산업혁명 시대의 경쟁력 확보와 일자리 창출의 해법을 신직업에서 찾고 있는 서울산업진흥원 SBA 이 자신들의 역량과 노력을 모두 담은  제 2회 신직업위크 를 진행하고 있습니다   이번 전자신문TV라이브는 서울 대치동 SBA 신직업교육센터에서 강만구 신직업교육팀장과 서지윤 신직업리서치팀수석  윤석원 테스트웍스 대표 등과 함께  제 2회 신직업위크 와 최신 신직업트렌드를 알아보는 시간으로 마련했습니다  많은 시청 바랍니다     전자신문  전자신문엔터  전자신문TV  라이브  소셜방송  현장라이브  손보련  신직업위크  서울산업진흥원  SBA  신직업  서울  강만구  서지윤  윤석원  테스트웍스  소프트웨어  테스터  소프트웨어테스터혹시 우리나라도   4차 산업혁명 시대 떠오르는 일자리 전략으로 강추  4차 산업혁명 대응에 가장 강점 분야는 5세대 이동통신   건강한 산업 생태계 조성 노력 강조중앙부처 공무원 51 3   4차 산업혁명 관련 가장 시급히 대응해야 할 기술적 과제 로 빅데이터 활용 꼽 전자신문TV 라이브  직격인터뷰   서울산업진흥원 SBA  주형철 대표이사  최근 각급 공공기관들이 4차 산업혁명기를 맞은 국내 중소기업의 경쟁력과 일자리 창출을 위해 노력하고 있는데요   이번 전자신문TV 라이브는 중소기업 활성화와 일자리 창출에 앞장서는 공공기관 중 대표적 사례로 꼽히는 서울산업진흥원 주형철 대표이사를 모시고 다양한 이야기를 듣는 시간으로 진행됩니다    전자신문  전자신문TV  서울산업진흥원  SBA  주형철  소성렬4차 산업혁명 대응은 일자리 창출과 함께 문재인 정부 주요 국정 과제인 데도 우선순위에서 밀렸다는 지적통합 개혁 행보에서 빠른 움직임을 보였지만 4차 산업혁명 등 신성장동력 창출에서는 한 발짝도 못 나갔다는 평입니다   미래창조과학부가 주최하고 전자신문사  한국경제신문  한국정보통신진흥협회 KAIT  주관으로 24일 서울 강남구 삼성동 코엑스에서 개막된  월드IT쇼 WIS  2017 은 4차 산업혁명이 더 이상 개념이 아니라 현실로 다가왔음을 입증했습니다  전자신문TV 라이브 예고  이번 전자신문TV는 4차 산업혁명과 과학기술 영상컨퍼런스를 생중계합니다   광운대학교 이승현 교수님을 모시고 진행하는 이번 행사는 VR  AR 기술과 몰힙형 미디어에 대해 설명해 주신다고 합니다   이번 행사는 전자신문 Entertainment와 가상현실 스튜디오 솔루션을 제작한 다림비젼  중견기업TV와 함께  4차 산업 정보 채널 IBSB IT Tech    Business SNS Broadcast 를 통해 진행합니다   IBSB는 전세계 4차 산업 혁명의 현장의 생생한 IT 소식과 정보  컨퍼런스의 강연  VOD정보를 VR 기술과 원격 Live방송 기술을 중심으로 시간과 거리를 초월하는 실시간 TELE Presentation 기술의 새로운 방송 서비스입니다   이런 유익한 강의를 전자신문 페이스북을 통해서 시청하실 수 있습니다  많은 관심부탁드립니다 대선 국면이지만 법안의 시급성 때문에 4차 산업혁명 대비 법제 개편 논의가 불붙을 전망입니다   4차 산업혁명 시대 대비     4차산업혁명 의 이해 Mastering the Fourth Industrial Revolution      23일 폐막한  다보스포럼 에서는  4차 산업혁명 기대와 우려가 교차했는데요  구글  애플  페이스북  삼성전자  LG전자가 앞다퉈 4차 산업혁명 흐름에 뛰어 들고 있습니다 '"
      ]
     },
     "execution_count": 17,
     "metadata": {},
     "output_type": "execute_result"
    }
   ],
   "source": [
    "# 해당 데이터에서, 기사 내용인 , message 부분의 값 추출 작업. \n",
    "# 임시 저장 문자열\n",
    "message = \"\"\n",
    "# data = [{딕션너리1},{딕션너리2},{딕션너리3},...]\n",
    "for item in data:\n",
    "  if \"message\" in item.keys():\n",
    "    # (\\w : 문자, 숫자 의미 ) 앞에 ^(not) 가 아닌 것은 모두 -> 공백으로 변경함. \n",
    "    # 하나의 임시 메세지 문자열 변수에 담기\n",
    "    message = message + re.sub(r\"[^\\w]\",\" \", item[\"message\"]) + \"\"\n",
    "message"
   ]
  },
  {
   "cell_type": "code",
   "execution_count": 1,
   "metadata": {},
   "outputs": [
    {
     "ename": "NameError",
     "evalue": "name 'Okt' is not defined",
     "output_type": "error",
     "traceback": [
      "\u001b[0;31m---------------------------------------------------------------------------\u001b[0m",
      "\u001b[0;31mNameError\u001b[0m                                 Traceback (most recent call last)",
      "Cell \u001b[0;32mIn[1], line 2\u001b[0m\n\u001b[1;32m      1\u001b[0m \u001b[39m# 품사 태깅, Okt 패키지 사용하기. \u001b[39;00m\n\u001b[0;32m----> 2\u001b[0m nlp \u001b[39m=\u001b[39m Okt()\n\u001b[1;32m      3\u001b[0m message_N \u001b[39m=\u001b[39m nlp\u001b[39m.\u001b[39mnouns(message)\n\u001b[1;32m      4\u001b[0m message_N\n",
      "\u001b[0;31mNameError\u001b[0m: name 'Okt' is not defined"
     ]
    }
   ],
   "source": [
    "# 품사 태깅, Okt 패키지 사용하기. \n",
    "nlp = Okt()\n",
    "message_N = nlp.nouns(message)\n",
    "message_N"
   ]
  },
  {
   "cell_type": "code",
   "execution_count": 6,
   "metadata": {},
   "outputs": [
    {
     "ename": "NameError",
     "evalue": "name 'Okt' is not defined",
     "output_type": "error",
     "traceback": [
      "\u001b[0;31m---------------------------------------------------------------------------\u001b[0m",
      "\u001b[0;31mNameError\u001b[0m                                 Traceback (most recent call last)",
      "Cell \u001b[0;32mIn[6], line 2\u001b[0m\n\u001b[1;32m      1\u001b[0m \u001b[39m# 품사 태깅, Okt 패키지 사용하기. \u001b[39;00m\n\u001b[0;32m----> 2\u001b[0m nlp \u001b[39m=\u001b[39m Okt()\n\u001b[1;32m      3\u001b[0m message_N \u001b[39m=\u001b[39m nlp\u001b[39m.\u001b[39mnouns(message)\n\u001b[1;32m      4\u001b[0m message_N\n",
      "\u001b[0;31mNameError\u001b[0m: name 'Okt' is not defined"
     ]
    }
   ],
   "source": [
    "\n"
   ]
  },
  {
   "cell_type": "code",
   "execution_count": null,
   "metadata": {},
   "outputs": [
    {
     "ename": "NameError",
     "evalue": "name 'Counter' is not defined",
     "output_type": "error",
     "traceback": [
      "\u001b[0;31m---------------------------------------------------------------------------\u001b[0m",
      "\u001b[0;31mNameError\u001b[0m                                 Traceback (most recent call last)",
      "Cell \u001b[0;32mIn[1], line 2\u001b[0m\n\u001b[1;32m      1\u001b[0m \u001b[39m# 집계 데이터 기본 탐색, 모델 구축 하기. \u001b[39;00m\n\u001b[0;32m----> 2\u001b[0m count \u001b[39m=\u001b[39m Counter(message_N)\n\u001b[1;32m      3\u001b[0m count\n",
      "\u001b[0;31mNameError\u001b[0m: name 'Counter' is not defined"
     ]
    }
   ],
   "source": [
    "# 집계 데이터 기본 탐색, 모델 구축 하기. \n",
    "count = Counter(message_N)\n",
    "count"
   ]
  },
  {
   "cell_type": "code",
   "execution_count": null,
   "metadata": {},
   "outputs": [],
   "source": []
  },
  {
   "cell_type": "code",
   "execution_count": 13,
   "metadata": {},
   "outputs": [
    {
     "ename": "NameError",
     "evalue": "name 'count' is not defined",
     "output_type": "error",
     "traceback": [
      "\u001b[0;31m---------------------------------------------------------------------------\u001b[0m",
      "\u001b[0;31mNameError\u001b[0m                                 Traceback (most recent call last)",
      "Cell \u001b[0;32mIn[13], line 5\u001b[0m\n\u001b[1;32m      2\u001b[0m word_count \u001b[39m=\u001b[39m \u001b[39mdict\u001b[39m()\n\u001b[1;32m      4\u001b[0m \u001b[39m# 상위 80개 정도 \u001b[39;00m\n\u001b[0;32m----> 5\u001b[0m \u001b[39mfor\u001b[39;00m tag, counts \u001b[39min\u001b[39;00m count\u001b[39m.\u001b[39mmost_common(\u001b[39m80\u001b[39m):\n\u001b[1;32m      6\u001b[0m   \u001b[39mif\u001b[39;00m(\u001b[39mlen\u001b[39m(\u001b[39mstr\u001b[39m(tag))\u001b[39m>\u001b[39m\u001b[39m1\u001b[39m):\n\u001b[1;32m      7\u001b[0m     word_count[tag] \u001b[39m=\u001b[39m counts\n",
      "\u001b[0;31mNameError\u001b[0m: name 'count' is not defined"
     ]
    }
   ],
   "source": [
    "# 임시 딕션너리에 담아서, 필요한 부분 추출해서 조사. \n",
    "word_count = dict()\n",
    "\n",
    "# 상위 80개 정도 \n",
    "for tag, counts in count.most_common(80):\n",
    "  if(len(str(tag))>1):\n",
    "    word_count[tag] = counts\n",
    "    # print(f\" tag : {tag}, counts : {counts}\")\n",
    "word_count"
   ]
  },
  {
   "cell_type": "code",
   "execution_count": 12,
   "metadata": {},
   "outputs": [
    {
     "data": {
      "text/plain": [
       "<BarContainer object of 0 artists>"
      ]
     },
     "execution_count": 12,
     "metadata": {},
     "output_type": "execute_result"
    },
    {
     "data": {
      "image/png": "[encoded data removed]",
      "text/plain": [
       "<Figure size 640x480 with 1 Axes>"
      ]
     },
     "metadata": {},
     "output_type": "display_data"
    }
   ],
   "source": [
    "# 시각화1, 막대 그래프 \n",
    "# 폰트 임포트 , 메모리에 설정 \n",
    "font_path = \"c:/Windows/Fonts/malgunbd.ttf\"\n",
    "font_name = font_manager.FontProperties(fname=font_path).get_name()\n",
    "matplotlib.rc(\"font\", family = font_name)\n",
    "\n",
    "#, x축, y축, 가로x세로 비율, x 라벨, 폰트 설정 등\n",
    "plt.figure(figsize=(12,6))\n",
    "plt.xlabel(\"키워드\")\n",
    "plt.ylabel(\"빈도수\")\n",
    "plt.grid(True)\n",
    "\n",
    "# 딕션너리의 키, 값 , 정렬 내림차순 \n",
    "sorted_Keys = sorted(word_count, key=word_count.get, reverse=True)\n",
    "sorted_Values = sorted(word_count.values(),reverse=True)\n",
    "\n",
    "# 막대 그래프 그리기. \n",
    "plt.bar(range(len(word_count)), sorted_Values, align=\"center\")\n",
    "\n",
    "# x 축 라벨 설정. \n",
    "plt.xticks(range(len(word_count)), list(sorted_Keys), rotation = \"vertical\")\n",
    "\n",
    "plt.show()"
   ]
  },
  {
   "cell_type": "code",
   "execution_count": 1,
   "metadata": {},
   "outputs": [
    {
     "ename": "NameError",
     "evalue": "name 'Okt' is not defined",
     "output_type": "error",
     "traceback": [
      "\u001b[0;31m---------------------------------------------------------------------------\u001b[0m",
      "\u001b[0;31mNameError\u001b[0m                                 Traceback (most recent call last)",
      "Cell \u001b[0;32mIn[1], line 2\u001b[0m\n\u001b[1;32m      1\u001b[0m \u001b[39m# 품사 태깅, Okt 패키지 사용하기. \u001b[39;00m\n\u001b[0;32m----> 2\u001b[0m nlp \u001b[39m=\u001b[39m Okt()\n\u001b[1;32m      3\u001b[0m message_N \u001b[39m=\u001b[39m nlp\u001b[39m.\u001b[39mnouns(message)\n\u001b[1;32m      4\u001b[0m message_N\n",
      "\u001b[0;31mNameError\u001b[0m: name 'Okt' is not defined"
     ]
    }
   ],
   "source": [
    "# 품사 태깅, Okt 패키지 사용하기. \n",
    "nlp = Okt()\n",
    "message_N = nlp.nouns(message)\n",
    "message_N"
   ]
  },
  {
   "cell_type": "code",
   "execution_count": 2,
   "metadata": {},
   "outputs": [
    {
     "ename": "NameError",
     "evalue": "name 'Counter' is not defined",
     "output_type": "error",
     "traceback": [
      "\u001b[0;31m---------------------------------------------------------------------------\u001b[0m",
      "\u001b[0;31mNameError\u001b[0m                                 Traceback (most recent call last)",
      "Cell \u001b[0;32mIn[2], line 2\u001b[0m\n\u001b[1;32m      1\u001b[0m \u001b[39m# 집계 데이터 기본 탐색, 모델 구축 하기. \u001b[39;00m\n\u001b[0;32m----> 2\u001b[0m count \u001b[39m=\u001b[39m Counter(message_N)\n\u001b[1;32m      3\u001b[0m count\n",
      "\u001b[0;31mNameError\u001b[0m: name 'Counter' is not defined"
     ]
    }
   ],
   "source": [
    "# 집계 데이터 기본 탐색, 모델 구축 하기. \n",
    "count = Counter(message_N)\n",
    "count"
   ]
  },
  {
   "cell_type": "code",
   "execution_count": 3,
   "metadata": {},
   "outputs": [
    {
     "ename": "NameError",
     "evalue": "name 'count' is not defined",
     "output_type": "error",
     "traceback": [
      "\u001b[0;31m---------------------------------------------------------------------------\u001b[0m",
      "\u001b[0;31mNameError\u001b[0m                                 Traceback (most recent call last)",
      "Cell \u001b[0;32mIn[3], line 5\u001b[0m\n\u001b[1;32m      2\u001b[0m word_count \u001b[39m=\u001b[39m \u001b[39mdict\u001b[39m()\n\u001b[1;32m      4\u001b[0m \u001b[39m# 상위 80개 정도 \u001b[39;00m\n\u001b[0;32m----> 5\u001b[0m \u001b[39mfor\u001b[39;00m tag, counts \u001b[39min\u001b[39;00m count\u001b[39m.\u001b[39mmost_common(\u001b[39m80\u001b[39m):\n\u001b[1;32m      6\u001b[0m   \u001b[39mif\u001b[39;00m(\u001b[39mlen\u001b[39m(\u001b[39mstr\u001b[39m(tag))\u001b[39m>\u001b[39m\u001b[39m1\u001b[39m):\n\u001b[1;32m      7\u001b[0m     word_count[tag] \u001b[39m=\u001b[39m counts\n",
      "\u001b[0;31mNameError\u001b[0m: name 'count' is not defined"
     ]
    }
   ],
   "source": [
    "# 임시 딕션너리에 담아서, 필요한 부분 추출해서 조사. \n",
    "word_count = dict()\n",
    "\n",
    "# 상위 80개 정도 \n",
    "for tag, counts in count.most_common(80):\n",
    "  if(len(str(tag))>1):\n",
    "    word_count[tag] = counts\n",
    "    # print(f\" tag : {tag}, counts : {counts}\")\n",
    "word_count"
   ]
  },
  {
   "cell_type": "code",
   "execution_count": 4,
   "metadata": {},
   "outputs": [
    {
     "ename": "NameError",
     "evalue": "name 'font_manager' is not defined",
     "output_type": "error",
     "traceback": [
      "\u001b[0;31m---------------------------------------------------------------------------\u001b[0m",
      "\u001b[0;31mNameError\u001b[0m                                 Traceback (most recent call last)",
      "Cell \u001b[0;32mIn[4], line 4\u001b[0m\n\u001b[1;32m      1\u001b[0m \u001b[39m# 시각화1, 막대 그래프 \u001b[39;00m\n\u001b[1;32m      2\u001b[0m \u001b[39m# 폰트 임포트 , 메모리에 설정 \u001b[39;00m\n\u001b[1;32m      3\u001b[0m font_path \u001b[39m=\u001b[39m \u001b[39m\"\u001b[39m\u001b[39mc:/Windows/Fonts/malgunbd.ttf\u001b[39m\u001b[39m\"\u001b[39m\n\u001b[0;32m----> 4\u001b[0m font_name \u001b[39m=\u001b[39m font_manager\u001b[39m.\u001b[39mFontProperties(fname\u001b[39m=\u001b[39mfont_path)\u001b[39m.\u001b[39mget_name()\n\u001b[1;32m      5\u001b[0m matplotlib\u001b[39m.\u001b[39mrc(\u001b[39m\"\u001b[39m\u001b[39mfont\u001b[39m\u001b[39m\"\u001b[39m, family \u001b[39m=\u001b[39m font_name)\n\u001b[1;32m      7\u001b[0m \u001b[39m#, x축, y축, 가로x세로 비율, x 라벨, 폰트 설정 등\u001b[39;00m\n",
      "\u001b[0;31mNameError\u001b[0m: name 'font_manager' is not defined"
     ]
    }
   ],
   "source": [
    "# 시각화1, 막대 그래프 \n",
    "# 폰트 임포트 , 메모리에 설정 \n",
    "font_path = \"c:/Windows/Fonts/malgunbd.ttf\"\n",
    "font_name = font_manager.FontProperties(fname=font_path).get_name()\n",
    "matplotlib.rc(\"font\", family = font_name)\n",
    "\n",
    "#, x축, y축, 가로x세로 비율, x 라벨, 폰트 설정 등\n",
    "plt.figure(figsize=(12,6))\n",
    "plt.xlabel(\"키워드\")\n",
    "plt.ylabel(\"빈도수\")\n",
    "plt.grid(True)\n",
    "\n",
    "# 딕션너리의 키, 값 , 정렬 내림차순 \n",
    "sorted_Keys = sorted(word_count, key=word_count.get, reverse=True)\n",
    "sorted_Values = sorted(word_count.values(),reverse=True)\n",
    "\n",
    "# 막대 그래프 그리기. \n",
    "plt.bar(range(len(word_count)), sorted_Values, align=\"center\")\n",
    "\n",
    "# x 축 라벨 설정. \n",
    "plt.xticks(range(len(word_count)), list(sorted_Keys), rotation = \"vertical\")\n",
    "\n",
    "plt.show()"
   ]
  }
 ],
 "metadata": {
  "kernelspec": {
   "display_name": "Python 3",
   "language": "python",
   "name": "python3"
  },
  "language_info": {
   "codemirror_mode": {
    "name": "ipython",
    "version": 3
   },
   "file_extension": ".py",
   "mimetype": "text/x-python",
   "name": "python",
   "nbconvert_exporter": "python",
   "pygments_lexer": "ipython3",
   "version": "3.11.5"
  },
  "orig_nbformat": 4
 },
 "nbformat": 4,
 "nbformat_minor": 2
}
